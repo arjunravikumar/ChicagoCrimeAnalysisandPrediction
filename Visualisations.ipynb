{
 "cells": [
  {
   "cell_type": "code",
   "execution_count": null,
   "metadata": {},
   "outputs": [],
   "source": [
    "'''Exploratory Data Analysis and their Visualisations\n",
    "Investigating Questions\n",
    "1. Which locations do the crimes mostly occur ?'''\n",
    "\n",
    "plt.figure(figsize = (15, 10))\n",
    "sns.countplot(y= 'LocationDescription', data = Crimes_copy, order = Crimes_copy['LocationDescription'].value_counts().iloc[:10].index)"
   ]
  },
  {
   "cell_type": "code",
   "execution_count": null,
   "metadata": {},
   "outputs": [],
   "source": [
    "'''\n",
    " Which crimes happen the most ?\n",
    "'''\n",
    "plt.figure(figsize = (15, 10))\n",
    "sns.countplot(y= 'PrimaryType', data = Crimes_copy, order = Crimes_copy['PrimaryType'].value_counts().iloc[:10].index)"
   ]
  },
  {
   "cell_type": "code",
   "execution_count": null,
   "metadata": {},
   "outputs": [],
   "source": [
    "'''What is the trend of the crimes happening along the years?'''\n",
    "crime_data_for_trend = Crimes_copy.pivot_table('ID', aggfunc=np.size, columns='PrimaryType', index=Crimes_copy.index.date, fill_value=0)\n",
    "crime_data_for_trend.index = pd.DatetimeIndex(crime_data_for_trend.index)\n",
    "plot = crime_data_for_trend.rolling(365).sum().plot(figsize=(12, 24), subplots=True, layout=(-1, 3), sharex=False, sharey=False)"
   ]
  },
  {
   "cell_type": "code",
   "execution_count": null,
   "metadata": {},
   "outputs": [],
   "source": [
    "'''The pattern of crimes\n",
    "1.Trend of Crimes occurring over the years'''\n",
    "\n",
    "\n",
    "plt.figure(figsize=(13,8))\n",
    "Crimes_copy.resample('M').size().plot(legend=False)\n",
    "plt.title('Trend of Crimes occurring over the years')\n",
    "plt.xlabel('Months')\n",
    "plt.ylabel('Number of crimes')\n",
    "plt.show()"
   ]
  },
  {
   "cell_type": "code",
   "execution_count": null,
   "metadata": {},
   "outputs": [],
   "source": [
    "'''2. Crimes happening monthwise'''\n",
    "Crimes_copy.groupby([Crimes_copy.index.month]).size().plot(kind='barh')\n",
    "plt.ylabel('Months of the year')\n",
    "plt.xlabel('Number of crimes')\n",
    "plt.title('Number of crimes by month of the year')\n",
    "plt.show()"
   ]
  },
  {
   "cell_type": "code",
   "execution_count": null,
   "metadata": {},
   "outputs": [],
   "source": [
    "days = ['Monday','Tuesday','Wednesday',  'Thursday', 'Friday', 'Saturday', 'Sunday']\n",
    "Crimes_copy.groupby([Crimes_copy.index.dayofweek]).size().plot(kind='barh')\n",
    "plt.ylabel('Days of the week')\n",
    "plt.yticks(np.arange(7), days)\n",
    "plt.xlabel('Number of crimes')\n",
    "plt.title('Number of crimes by day of the week')\n",
    "plt.show()"
   ]
  },
  {
   "cell_type": "code",
   "execution_count": null,
   "metadata": {},
   "outputs": [],
   "source": [
    "plt.figure(figsize=(11,4))\n",
    "Crimes_copy.resample('D').size().rolling(365).sum().plot()\n",
    "plt.title('Rolling sum of all crimes from 2001 - 2020')\n",
    "plt.ylabel('Number of crimes')\n",
    "plt.xlabel('Days')\n",
    "plt.show()"
   ]
  },
  {
   "cell_type": "code",
   "execution_count": null,
   "metadata": {},
   "outputs": [],
   "source": [
    "Crimes = Crimes.loc[(Crimes['X Coordinate']!=0)]\n",
    "sns.lmplot('X Coordinate', \n",
    "           'Y Coordinate',\n",
    "           data=Crimes[:],\n",
    "           fit_reg=False, \n",
    "           hue=\"District\",\n",
    "           palette='Dark2',\n",
    "           size=14,\n",
    "           ci=2,\n",
    "           scatter_kws={\"marker\": \"D\", \n",
    "                        \"s\": 10})\n",
    "ax = plt.gca()\n",
    "ax.set_title(\"All Crime Distribution per District\")\n",
    "plt.savefig(\"incorrectdistrict.png\")"
   ]
  },
  {
   "cell_type": "code",
   "execution_count": null,
   "metadata": {},
   "outputs": [],
   "source": [
    "col2 = ['Date','Primary Type','Arrest','Domestic','District','X Coordinate','Y Coordinate']\n",
    "multiple_crimes = Crimes[col2]\n",
    "multiple_crimes = multiple_crimes[multiple_crimes['Primary Type']\\\n",
    "                  .isin(['HOMICIDE','CONCEALED CARRY LICENSE VIOLATION','NARCOTICS','WEAPONS VIOLATION'])]\n",
    "# clean some rouge (0,0) coordinates\n",
    "multiple_crimes = multiple_crimes[multiple_crimes['X Coordinate']!=0]\n",
    "multiple_crimes.head()\n",
    "g = sns.lmplot(x=\"X Coordinate\",\n",
    "               y=\"Y Coordinate\",\n",
    "               col=\"Primary Type\",\n",
    "               data=multiple_crimes.dropna(), \n",
    "               col_wrap=2, size=6, fit_reg=False, \n",
    "               sharey=False,\n",
    "               scatter_kws={\"marker\": \"D\",\n",
    "                            \"s\": 10})"
   ]
  },
  {
   "cell_type": "code",
   "execution_count": null,
   "metadata": {},
   "outputs": [],
   "source": [
    "df_public_peace =  Crimes[Crimes['Primary Type'] == 'PUBLIC PEACE VIOLATION']\n",
    "df_public_data = pd.DataFrame({\"Counts\": df_public_peace['Description'].value_counts(), \"Description\" : df_public_peace['Description'].value_counts().index})\n",
    "df_public_data.reset_index(inplace=True)\n",
    "df_public_data = df_public_data.drop(columns=['index'], axis = 1)\n",
    "df_public_data.head()\n",
    "plt.figure(figsize = (15, 7))\n",
    "sns.barplot(y =\"Description\", x = \"Counts\", data = df_public_data, palette=\"cool\")"
   ]
  }
 ],
 "metadata": {
  "kernelspec": {
   "display_name": "Python 3",
   "language": "python",
   "name": "python3"
  },
  "language_info": {
   "codemirror_mode": {
    "name": "ipython",
    "version": 3
   },
   "file_extension": ".py",
   "mimetype": "text/x-python",
   "name": "python",
   "nbconvert_exporter": "python",
   "pygments_lexer": "ipython3",
   "version": "3.8.5"
  }
 },
 "nbformat": 4,
 "nbformat_minor": 4
}
